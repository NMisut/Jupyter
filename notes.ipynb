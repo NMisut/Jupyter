{
 "cells": [
  {
   "cell_type": "markdown",
   "id": "fcd99241",
   "metadata": {},
   "source": [
    "Toggle between edit and command mode with Esc and Enter, respectively.\n",
    "Once in command mode:\n",
    "- Scroll up and down your cells with your Up and Down keys.\n",
    "- Press A or B to insert a new cell above or below the active cell.\n",
    "- M will transform the active cell to a Markdown cell.\n",
    "- Y will set the active cell to a code cell.\n",
    "- D + D (D twice) will delete the active cell.\n",
    "- Z will undo cell deletion.\n",
    "- Hold Shift and press Up or Down to select multiple cells at once.\n",
    "- With multiple cells selected, Shift + M will merge your selection.\n",
    "- Ctrl + Shift + -, in edit mode, will split the active cell at the cursor.\n",
    "- You can also click and Shift + Click in the margin to the left of your cells to select them."
   ]
  },
  {
   "cell_type": "markdown",
   "id": "90e581a2",
   "metadata": {},
   "source": [
    "# This is a level 1 heading\n",
    "\n",
    "## This is a level 2 heading\n",
    "\n",
    "This is some plain text that forms a paragraph. Add emphasis via **bold** and __bold__, or *italic* and _italic_. \n",
    "\n",
    "Paragraphs must be separated by an empty line. \n",
    "\n",
    "* Sometimes we want to include lists. \n",
    "* Which can be bulleted using asterisks. \n",
    "\n",
    "1. Lists can also be numbered. \n",
    "2. If we want an ordered list.\n",
    "\n",
    "[It is possible to include hyperlinks](https://www.example.com)\n",
    "\n",
    "Inline code uses single backticks: `foo()`, and code blocks use triple backticks: \n",
    "```\n",
    "bar()\n",
    "``` \n",
    "Or can be indented by 4 spaces: \n",
    "\n",
    "    foo()\n",
    "\n",
    "And finally, adding images is easy: ![Alt text](https://www.example.com/image.jpg)"
   ]
  },
  {
   "cell_type": "code",
   "execution_count": null,
   "id": "610779e3",
   "metadata": {},
   "outputs": [],
   "source": []
  }
 ],
 "metadata": {
  "kernelspec": {
   "display_name": "Python 3 (ipykernel)",
   "language": "python",
   "name": "python3"
  },
  "language_info": {
   "codemirror_mode": {
    "name": "ipython",
    "version": 3
   },
   "file_extension": ".py",
   "mimetype": "text/x-python",
   "name": "python",
   "nbconvert_exporter": "python",
   "pygments_lexer": "ipython3",
   "version": "3.9.13"
  }
 },
 "nbformat": 4,
 "nbformat_minor": 5
}
